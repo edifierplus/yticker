{
 "cells": [
  {
   "cell_type": "code",
   "execution_count": null,
   "id": "ordered-victorian",
   "metadata": {},
   "outputs": [],
   "source": [
    "from datetime import datetime\n",
    "import sys\n",
    "import time\n",
    "from collections import namedtuple\n",
    "from pyquery import PyQuery\n",
    "from requests import get\n",
    "from selenium import webdriver\n",
    "from selenium.webdriver.common.action_chains import ActionChains\n",
    "from tqdm.notebook import tqdm\n",
    "import pandas as pd\n",
    "from requests import get"
   ]
  },
  {
   "cell_type": "code",
   "execution_count": null,
   "id": "narrative-ferry",
   "metadata": {},
   "outputs": [],
   "source": [
    "TickerTuple = namedtuple('Ticker', ['symbol', 'name', 'industry', 'type', 'exchange'])"
   ]
  },
  {
   "cell_type": "code",
   "execution_count": null,
   "id": "multiple-treaty",
   "metadata": {},
   "outputs": [],
   "source": [
    "class YahooLookupBrowser:\n",
    "    def __init__(self):\n",
    "        self.browser = self._open_browser()\n",
    "        self.base_url = \"https://finance.yahoo.com/lookup/{category}?s={key}&t=A&b={start}&c={size}\"\n",
    "        \n",
    "    def __enter__(self):\n",
    "        return self\n",
    "    \n",
    "    def __exit__(self, exc_type, exc_value, traceback):\n",
    "        self.browser.quit()\n",
    "\n",
    "    def _open_browser(self):\n",
    "        options = webdriver.FirefoxOptions()\n",
    "        options.add_argument('--headless')\n",
    "        return webdriver.Firefox(options=options)\n",
    "\n",
    "    def lookup(self, key, category='all', start=0, size=100) -> (list, int):\n",
    "        url = self.base_url.format(category=category, key=key, start=start, size=size)\n",
    "        # self.browser.get(url)\n",
    "        source = get(url)\n",
    "        raw_data = PyQuery(source.text)\n",
    "        \n",
    "        title = raw_data(\"a[href*=\\\\/lookup]\")[0].find('span').text_content()\n",
    "        total = int(title[title.find('(')+1:title.find(')')])\n",
    "        \n",
    "        if total == 0:\n",
    "            return ([], 0)\n",
    "        \n",
    "        tbody = raw_data(\"tbody\")\n",
    "        ans = list()\n",
    "        for row in tbody[0].findall('tr'):\n",
    "            td = row.findall(\"td\")\n",
    "            td.pop(2)\n",
    "            ans.append(TickerTuple._make(x.text_content() for x in td))\n",
    "\n",
    "        return (ans, total)"
   ]
  },
  {
   "cell_type": "code",
   "execution_count": null,
   "id": "organized-moldova",
   "metadata": {},
   "outputs": [],
   "source": [
    "%%time\n",
    "lookup_browser = YahooLookupBrowser()\n",
    "ans, total = lookup_browser.lookup(key='a')\n",
    "print(len(ans), total)"
   ]
  },
  {
   "cell_type": "code",
   "execution_count": null,
   "id": "rural-removal",
   "metadata": {},
   "outputs": [],
   "source": [
    "%%time\n",
    "\n",
    "ylb = YahooLookupBrowser()\n",
    "answers = set()\n",
    "\n",
    "perpage = 10000\n",
    "idx = 0\n",
    "letters = list('abcdefghijklmnopqrstuvwxyz')\n",
    "queue = list(letters)\n",
    "pbar = tqdm(total=len(queue))\n",
    "\n",
    "while idx < len(queue):\n",
    "    pbar.set_description(f\"[query = {queue[idx]}]\")\n",
    "    pbar.refresh()\n",
    "\n",
    "    try:\n",
    "        t = datetime.now()\n",
    "        ans, total = ylb.lookup(key=queue[idx], category='all', start=0, size=perpage)\n",
    "        seconds = (datetime.now() - t).total_seconds()\n",
    "        pbar.write(f\"query = {queue[idx]} | count = {len(ans)} | total = {total} | seconds = {seconds}\")\n",
    "    except Exception as e:\n",
    "        pbar.write(f\"error (idx = {idx}, query = {queue[idx]}): \" + str(e))\n",
    "        pbar.write(\"wait for 10 seconds...\")\n",
    "        time.sleep(10)  # s\n",
    "        continue\n",
    "\n",
    "    if total > perpage:\n",
    "        add = [queue[idx] + '%20' + letter for letter in letters] + [queue[idx] + letter for letter in letters]\n",
    "        queue += add\n",
    "        pbar.write(f\"Add new queries {queue[idx]}[%20][a-z] to queue\")\n",
    "        pbar.reset(total=len(queue))\n",
    "        pbar.update(n=idx)\n",
    "\n",
    "    answers.update(ans)\n",
    "    pbar.update()\n",
    "    idx += 1"
   ]
  },
  {
   "cell_type": "code",
   "execution_count": null,
   "id": "czech-laptop",
   "metadata": {},
   "outputs": [],
   "source": [
    "answer_list = sorted(list(answers))\n",
    "df = pd.DataFrame(answer_list)\n",
    "df.to_csv('answers.csv')\n",
    "df"
   ]
  },
  {
   "cell_type": "code",
   "execution_count": null,
   "id": "grave-johnson",
   "metadata": {},
   "outputs": [],
   "source": [
    "print(list(df['exchange'].unique()))"
   ]
  },
  {
   "cell_type": "code",
   "execution_count": null,
   "id": "selected-pathology",
   "metadata": {},
   "outputs": [],
   "source": [
    "a = df[(df['industry'] == 'Technology') & (df['type'] == 'Stocks') & (df['exchange'] == 'NMS')]\n",
    "a"
   ]
  },
  {
   "cell_type": "code",
   "execution_count": null,
   "id": "rolled-pierre",
   "metadata": {},
   "outputs": [],
   "source": [
    "df = pd.read_csv('answers.csv').sort_values(by=['type', 'exchange', 'industry', 'symbol'])\n",
    "df"
   ]
  },
  {
   "cell_type": "code",
   "execution_count": null,
   "id": "behavioral-infection",
   "metadata": {},
   "outputs": [],
   "source": [
    "df[df.duplicated(subset=['symbol'])]"
   ]
  }
 ],
 "metadata": {
  "kernelspec": {
   "display_name": "quant",
   "language": "python",
   "name": "quant"
  },
  "language_info": {
   "codemirror_mode": {
    "name": "ipython",
    "version": 3
   },
   "file_extension": ".py",
   "mimetype": "text/x-python",
   "name": "python",
   "nbconvert_exporter": "python",
   "pygments_lexer": "ipython3",
   "version": "3.8.7"
  }
 },
 "nbformat": 4,
 "nbformat_minor": 5
}
