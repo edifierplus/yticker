{
 "cells": [
  {
   "cell_type": "code",
   "execution_count": null,
   "id": "impaired-champagne",
   "metadata": {},
   "outputs": [],
   "source": [
    "from datetime import datetime\n",
    "import sys\n",
    "import time\n",
    "from collections import namedtuple\n",
    "from pyquery import PyQuery\n",
    "from requests import get\n",
    "from selenium import webdriver\n",
    "from selenium.webdriver.common.action_chains import ActionChains\n",
    "from tqdm.notebook import tqdm\n",
    "import pandas as pd\n",
    "from requests import get"
   ]
  },
  {
   "cell_type": "code",
   "execution_count": null,
   "id": "computational-truth",
   "metadata": {},
   "outputs": [],
   "source": [
    "TickerTuple = namedtuple('Ticker', ['symbol', 'name', 'industry', 'type', 'exchange'])\n",
    "CategoryTuple = namedtuple('Category', ['index', 'code', 'name'])"
   ]
  },
  {
   "cell_type": "code",
   "execution_count": null,
   "id": "behind-vermont",
   "metadata": {},
   "outputs": [],
   "source": [
    "test_url = 'https://finance.yahoo.com/lookup/all?s=a'\n",
    "source = get(test_url)\n",
    "raw_data = PyQuery(source.text)\n",
    "y = raw_data[0]\n",
    "titles = [x.find('span').text_content() for x in raw_data(\"a[href*=\\\\/lookup]\")]\n",
    "titles"
   ]
  },
  {
   "cell_type": "code",
   "execution_count": null,
   "id": "suburban-catholic",
   "metadata": {},
   "outputs": [],
   "source": [
    "class YahooLookupBrowser:\n",
    "    \"\"\"The browser simulator to lookup tickers in Yahoo Finance.\n",
    "    \"\"\"\n",
    "\n",
    "    def __init__(self):\n",
    "        self.base_url = \"https://finance.yahoo.com/lookup/{category}?s={key}&t=A&b={start}&c={size}\"\n",
    "        self.categories = {\n",
    "            'all': CategoryTuple(0, 'all', 'All'),\n",
    "            'equity': CategoryTuple(1, 'equity', 'Stocks'),\n",
    "            'mutualfund': CategoryTuple(2, 'mutualfund', 'Mutual Funds'),\n",
    "            'etf': CategoryTuple(3, 'etf', 'ETFs'),\n",
    "            'index': CategoryTuple(4, 'index', 'Indices'),\n",
    "            'future': CategoryTuple(5, 'future', 'Futures'),\n",
    "            'currency': CategoryTuple(6, 'currency', 'Currencies'),\n",
    "        }\n",
    "\n",
    "    def lookup(self, key: str, category: str = 'all', start: int = 0, size: int = 100):\n",
    "        \"\"\"Lookup tickers in Yahoo Finance.\n",
    "\n",
    "        Args:\n",
    "            key (str): The keyword of the lookup.\n",
    "            category (str, optional): Category of the tickers. Defaults to 'all'.\n",
    "            start (int, optional): Start index of the lookup page. Defaults to 0.\n",
    "            size (int, optional): Size of the lookup page. Defaults to 100.\n",
    "\n",
    "        Returns:\n",
    "            (list, int): The pair of lookup results in the page and total tickers matching the keyword.\n",
    "        \"\"\"\n",
    "        url = self.base_url.format(category=category, key=key, start=start, size=size)\n",
    "        response = get(url)\n",
    "\n",
    "        if not response.ok or 'Will be right back' in response.text:\n",
    "            # page temporarily unavailable\n",
    "            raise ConnectionRefusedError(\"Lookup page is temporarily unavailable\")\n",
    "\n",
    "        raw_data = PyQuery(response.text)\n",
    "        ct = self.categories[category]\n",
    "        title = raw_data(\"a[href*=\\\\/lookup]\")[ct.index].find('span').text_content()\n",
    "        assert title.startswith(ct.name)\n",
    "        total = int(title[title.find('(') + 1:title.find(')')])\n",
    "\n",
    "        if total == 0:\n",
    "            # nothing is in the lookup page, so don't parse it\n",
    "            return ([], 0)\n",
    "\n",
    "        tbody = raw_data(\"tbody\")\n",
    "        ans = list()\n",
    "        for row in tbody[0].findall('tr'):\n",
    "            td = row.findall(\"td\")\n",
    "            td.pop(2)  # remove latest price\n",
    "            ans.append(TickerTuple._make(x.text_content() for x in td))\n",
    "\n",
    "        return (ans, total)"
   ]
  },
  {
   "cell_type": "code",
   "execution_count": null,
   "id": "wooden-console",
   "metadata": {},
   "outputs": [],
   "source": [
    "lookup_browser = YahooLookupBrowser()\n",
    "for cat in lookup_browser.categories:\n",
    "    %time ans, total = lookup_browser.lookup(key='a', category=cat)\n",
    "    print(cat, len(ans), total)"
   ]
  },
  {
   "cell_type": "code",
   "execution_count": null,
   "id": "featured-rendering",
   "metadata": {},
   "outputs": [],
   "source": [
    "%%time\n",
    "\n",
    "ylb = YahooLookupBrowser()\n",
    "answers = set()\n",
    "\n",
    "perpage = 10000\n",
    "idx = 0\n",
    "letters = list('abcdefghijklmnopqrstuvwxyz')\n",
    "queue = list(letters)\n",
    "pbar = tqdm(total=len(queue))\n",
    "\n",
    "while idx < len(queue):\n",
    "    pbar.set_description(f\"[query = {queue[idx]}]\")\n",
    "    pbar.refresh()\n",
    "\n",
    "    try:\n",
    "        t = datetime.now()\n",
    "        ans, total = ylb.lookup(key=queue[idx], category='all', start=0, size=perpage)\n",
    "        seconds = (datetime.now() - t).total_seconds()\n",
    "        pbar.write(f\"query = {queue[idx]} | count = {len(ans)} | total = {total} | seconds = {seconds}\")\n",
    "    except Exception as e:\n",
    "        pbar.write(f\"error (idx = {idx}, query = {queue[idx]}): \" + str(e))\n",
    "        pbar.write(\"wait for 10 seconds...\")\n",
    "        time.sleep(10)  # s\n",
    "        continue\n",
    "\n",
    "    if total > perpage:\n",
    "        add = [queue[idx] + '%20' + letter for letter in letters] + [queue[idx] + letter for letter in letters]\n",
    "        queue += add\n",
    "        pbar.write(f\"Add new queries {queue[idx]}[%20][a-z] to queue\")\n",
    "        pbar.reset(total=len(queue))\n",
    "        pbar.update(n=idx)\n",
    "\n",
    "    answers.update(ans)\n",
    "    pbar.update()\n",
    "    idx += 1"
   ]
  },
  {
   "cell_type": "code",
   "execution_count": null,
   "id": "fatty-luxembourg",
   "metadata": {},
   "outputs": [],
   "source": [
    "answer_list = sorted(list(answers))\n",
    "df = pd.DataFrame(answer_list)\n",
    "df.to_csv('answers.csv')\n",
    "df"
   ]
  },
  {
   "cell_type": "code",
   "execution_count": null,
   "id": "broad-addiction",
   "metadata": {},
   "outputs": [],
   "source": [
    "print(list(df['exchange'].unique()))"
   ]
  },
  {
   "cell_type": "code",
   "execution_count": null,
   "id": "stretch-flooring",
   "metadata": {},
   "outputs": [],
   "source": [
    "a = df[(df['industry'] == 'Technology') & (df['type'] == 'Stocks') & (df['exchange'] == 'NMS')]\n",
    "a"
   ]
  },
  {
   "cell_type": "code",
   "execution_count": null,
   "id": "surprising-buffer",
   "metadata": {},
   "outputs": [],
   "source": [
    "df = pd.read_csv('answers.csv').sort_values(by=['type', 'exchange', 'industry', 'symbol'])\n",
    "df"
   ]
  },
  {
   "cell_type": "code",
   "execution_count": null,
   "id": "reported-wrapping",
   "metadata": {},
   "outputs": [],
   "source": [
    "df[df.duplicated(subset=['symbol'])]"
   ]
  }
 ],
 "metadata": {
  "kernelspec": {
   "display_name": "quant",
   "language": "python",
   "name": "quant"
  },
  "language_info": {
   "codemirror_mode": {
    "name": "ipython",
    "version": 3
   },
   "file_extension": ".py",
   "mimetype": "text/x-python",
   "name": "python",
   "nbconvert_exporter": "python",
   "pygments_lexer": "ipython3",
   "version": "3.8.7"
  }
 },
 "nbformat": 4,
 "nbformat_minor": 5
}
