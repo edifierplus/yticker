{
 "cells": [
  {
   "cell_type": "code",
   "execution_count": null,
   "id": "behavioral-district",
   "metadata": {},
   "outputs": [],
   "source": [
    "import datetime\n",
    "import sys\n",
    "import time\n",
    "from collections import namedtuple\n",
    "from pyquery import PyQuery\n",
    "from requests import get\n",
    "from selenium import webdriver\n",
    "from selenium.webdriver.common.action_chains import ActionChains\n",
    "from tqdm.notebook import tqdm"
   ]
  },
  {
   "cell_type": "code",
   "execution_count": null,
   "id": "consolidated-permit",
   "metadata": {},
   "outputs": [],
   "source": [
    "TickerTuple = namedtuple('Ticker', ['symbol', 'name', 'industry', 'type', 'exchange'])"
   ]
  },
  {
   "cell_type": "code",
   "execution_count": null,
   "id": "changed-agency",
   "metadata": {},
   "outputs": [],
   "source": [
    "class YahooLookupBrowser:\n",
    "    def __init__(self):\n",
    "        self.browser = self._open_browser()\n",
    "        self.base_url = \"https://finance.yahoo.com/lookup/{category}?s={key}&t=A&b={start}&c={size}\"\n",
    "        \n",
    "    def __enter__(self):\n",
    "        return self\n",
    "    \n",
    "    def __exit__(self, exc_type, exc_value, traceback):\n",
    "        self.browser.close()\n",
    "\n",
    "    def _open_browser(self):\n",
    "        options = webdriver.FirefoxOptions()\n",
    "        options.add_argument('--headless')\n",
    "        return webdriver.Firefox(options=options)\n",
    "\n",
    "    def lookup(self, key, category='all', start=0, size=100) -> (list, int):\n",
    "        url = self.base_url.format(category=category, key=key, start=start, size=size)\n",
    "        self.browser.get(url)\n",
    "        raw_data = PyQuery(self.browser.page_source)\n",
    "        \n",
    "        title = raw_data(\"a[href*=\\/lookup\\/]\")[0].find('span').text_content()\n",
    "        total = int(title[title.find('(')+1:title.find(')')])\n",
    "        \n",
    "        if total == 0:\n",
    "            return ([], 0)\n",
    "        \n",
    "        tbody = raw_data(\"tbody\")\n",
    "        ans = list()\n",
    "        for row in tbody[0].findall('tr'):\n",
    "            td = row.findall(\"td\")\n",
    "            td.pop(2)\n",
    "            ans.append(TickerTuple._make(x.text_content() for x in td))\n",
    "\n",
    "        return (ans, total)"
   ]
  },
  {
   "cell_type": "code",
   "execution_count": null,
   "id": "green-belarus",
   "metadata": {},
   "outputs": [],
   "source": [
    "%%time\n",
    "lookup_browser = YahooLookupBrowser()\n",
    "ans, total = lookup_browser.lookup(key='a')"
   ]
  },
  {
   "cell_type": "code",
   "execution_count": null,
   "id": "fabulous-television",
   "metadata": {},
   "outputs": [],
   "source": [
    "print(len(ans), total)"
   ]
  },
  {
   "cell_type": "code",
   "execution_count": null,
   "id": "velvet-expert",
   "metadata": {},
   "outputs": [],
   "source": [
    "%%time\n",
    "\n",
    "lookup_browser = YahooLookupBrowser()\n",
    "\n",
    "perpage = 10000\n",
    "idx = 0\n",
    "letters = list('abcdefghijklmnopqrstuvwxyz')\n",
    "queue = list(letters)\n",
    "pbar = tqdm(total=len(queue))\n",
    "\n",
    "answers = set()\n",
    "while idx < len(queue):\n",
    "    pbar.set_description(f\"[Query {queue[idx]}]\")\n",
    "    pbar.refresh()\n",
    "    \n",
    "    try:\n",
    "        ans, total = lookup_browser.lookup(key=queue[idx], category='all', start=0, size=perpage)\n",
    "        pbar.write(f\"query = {queue[idx]} | count = {len(ans)} | total = {total}\")\n",
    "    except Exception as e:\n",
    "        pbar.write(f\"error: idx = {idx}\")\n",
    "        pbar.write(str(e))\n",
    "        continue\n",
    "\n",
    "    if total > perpage:\n",
    "        add = [queue[idx] + l for l in letters]\n",
    "        queue += add\n",
    "        pbar.write(f\"Add new queries {queue[idx]}[a-z] to queue\")\n",
    "        pbar.reset(total=len(queue))\n",
    "        pbar.update(n=idx)\n",
    "    \n",
    "    answers.update(ans)\n",
    "    pbar.update()\n",
    "    idx += 1"
   ]
  },
  {
   "cell_type": "code",
   "execution_count": null,
   "id": "failing-input",
   "metadata": {},
   "outputs": [],
   "source": [
    "answer_list = list(answers)\n",
    "sort(answer_list, key=lambda x: x.symbol)\n",
    "print(answer_list[0:10])"
   ]
  },
  {
   "cell_type": "code",
   "execution_count": null,
   "id": "personalized-secretariat",
   "metadata": {},
   "outputs": [],
   "source": [
    "browser = lookup_browser._open_browser()\n",
    "letters0 = list('abcdefghijklmnopqrstuvwxyz^.=-')\n",
    "letters = letters0 + [x + y for x in letters0 for y in letters0]\n",
    "base_url = \"https://finance.yahoo.com/lookup/all?s={key}&t=A&b=0&c=100\"\n",
    "ans = []\n",
    "\n",
    "for x in tqdm(letters):\n",
    "    browser.get(base_url.format(key=x))\n",
    "    raw_data = PyQuery(browser.page_source)\n",
    "    text = raw_data(\"a[href*=\\/lookup\\/]\")[0].find('span').text_content()\n",
    "    num = int(text[text.find('(')+1:text.find(')')])\n",
    "    ans.append((x, num))"
   ]
  },
  {
   "cell_type": "code",
   "execution_count": null,
   "id": "vocational-jungle",
   "metadata": {},
   "outputs": [],
   "source": [
    "print([x for x in ans if x[1] >= 10000])"
   ]
  }
 ],
 "metadata": {
  "kernelspec": {
   "display_name": "quant",
   "language": "python",
   "name": "quant"
  },
  "language_info": {
   "codemirror_mode": {
    "name": "ipython",
    "version": 3
   },
   "file_extension": ".py",
   "mimetype": "text/x-python",
   "name": "python",
   "nbconvert_exporter": "python",
   "pygments_lexer": "ipython3",
   "version": "3.8.7"
  }
 },
 "nbformat": 4,
 "nbformat_minor": 5
}
